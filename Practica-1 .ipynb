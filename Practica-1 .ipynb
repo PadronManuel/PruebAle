{
 "cells": [
  {
   "cell_type": "markdown",
   "metadata": {},
   "source": [
    "__Padrón Tafoya Manuel Alejandro   GitHub: PadrónManuel__"
   ]
  },
  {
   "cell_type": "markdown",
   "metadata": {},
   "source": [
    "### Índice"
   ]
  },
  {
   "cell_type": "markdown",
   "metadata": {},
   "source": [
    "* [1. Celdas](#1.-Celdas)\n",
    "   * [1.1 Tipo Código](#1.1-Tipo-Código)\n",
    "   * [1.2 Tipo Markdown](#1.2-Tipo-Markdown)\n",
    "   * [1.3 Tipo Raw](#1.3-Tipo-Raw)\n",
    "* [2. Estilo de Fuente](#2.-Estilo-de-Fuente)\n",
    "   * [2.1 Fuente Italica](#2.1-Fuente-Italica)\n",
    "   * [2.2 Fuente Negrita](#2.2-Fuente-Negrita)\n",
    "   * [2.3 Fuente Negrita e Italica](#2.3-Fuente-Negrita-e-Italica)\n",
    "* [3. Enlaces](#3.-Enlaces)\n",
    "   * [3.1 Enlace dentro del Notebook](#3.1-Enlace-dentro-del-Notebook)\n",
    "   * [3.2 Enlace a un sitio web](#3.2-Enlace-a-un-sitio-web)\n",
    "   * [3.3 Enlace a una imagen web](#3.3-Enlace-a-una-imagen-web)\n",
    "* [4. Ecuaciones](#4.-Ecuaciones)\n",
    "   * [4.1 Ecuaciones tipo LATEX](#4.1-Ecuaciones-tipo-LATEX)"
   ]
  },
  {
   "cell_type": "markdown",
   "metadata": {},
   "source": [
    "# 1. Celdas"
   ]
  },
  {
   "cell_type": "markdown",
   "metadata": {},
   "source": [
    "En Jupyter hay cuatro tipos de celdas que son:\n",
    "* celdas de código *Code Cells*\n",
    "* celdas de radacción *Markdown Cells*\n",
    "* celdas sin formato *Raw NBConvert*\n",
    "* celdas de encabezado *Heading* aunque hay seis niveles de celdas de encabezado."
   ]
  },
  {
   "cell_type": "markdown",
   "metadata": {},
   "source": [
    "## 1.1 Tipo Código"
   ]
  },
  {
   "cell_type": "markdown",
   "metadata": {},
   "source": [
    "Las celdas tipo código se ejecutan por defecto con Python. Los Notebooks en Jupyter también admiten los comandos de otros tipos, como Python, HTML, etc.\n",
    "Las celdas tienen una entrada (In) y una salida (Out) como se muestra en el ejemplo."
   ]
  },
  {
   "cell_type": "code",
   "execution_count": 2,
   "metadata": {},
   "outputs": [
    {
     "data": {
      "text/plain": [
       "'Esto es un ejemplo'"
      ]
     },
     "execution_count": 2,
     "metadata": {},
     "output_type": "execute_result"
    }
   ],
   "source": [
    "\"Esto es un ejemplo\""
   ]
  },
  {
   "cell_type": "markdown",
   "metadata": {},
   "source": [
    "## 1.2 Tipo Markdown"
   ]
  },
  {
   "cell_type": "markdown",
   "metadata": {},
   "source": [
    "Esta es una celda de tipo __Markdown__, en mencionadas celdas podemos poner texto de forma libre, podemos poner informacion de nuestro interes."
   ]
  },
  {
   "cell_type": "markdown",
   "metadata": {},
   "source": [
    "Esto es un ejemplo de una celda ___Markdown___"
   ]
  },
  {
   "cell_type": "markdown",
   "metadata": {},
   "source": [
    "## 1.3 Tipo Raw"
   ]
  },
  {
   "cell_type": "markdown",
   "metadata": {},
   "source": [
    "Estas celdas a diferencia de las demás, no tienen como tal una entrada-salida y a esto se le domina una celda sin procesar.\n",
    "Estas no se pueden se pueden ejecutar y si tratamos de hacerlo permaneceran intactas y tampoco se pueden poner en otro estilo es fuente o algún tipo de carácter.\n",
    "Se usan principalmente para poner ejemplos."
   ]
  },
  {
   "cell_type": "raw",
   "metadata": {},
   "source": [
    "print(\"Hola Mundo!)"
   ]
  },
  {
   "cell_type": "markdown",
   "metadata": {},
   "source": [
    "# 2. Estilo de Fuente"
   ]
  },
  {
   "cell_type": "markdown",
   "metadata": {},
   "source": [
    "Este de aplica al texto o palabra deseada con los siguientes carácteres."
   ]
  },
  {
   "cell_type": "markdown",
   "metadata": {},
   "source": [
    "## 2.1 Fuente Italica"
   ]
  },
  {
   "cell_type": "markdown",
   "metadata": {},
   "source": [
    "Las italicas son un estilo de tipografía en el que todos los caracteres están inclinados y se pueden colocar en el texto de acuerdo con los ejemplos."
   ]
  },
  {
   "cell_type": "markdown",
   "metadata": {},
   "source": [
    "<pre>\n",
    "_Italics_\n",
    "</pre>"
   ]
  },
  {
   "cell_type": "markdown",
   "metadata": {},
   "source": [
    "_Italics_"
   ]
  },
  {
   "cell_type": "markdown",
   "metadata": {},
   "source": [
    "<pre>\n",
    "*Italics*\n",
    "</pre>"
   ]
  },
  {
   "cell_type": "markdown",
   "metadata": {},
   "source": [
    "*Italics*"
   ]
  },
  {
   "cell_type": "markdown",
   "metadata": {},
   "source": [
    "## 2.2 Fuente Negrita"
   ]
  },
  {
   "cell_type": "markdown",
   "metadata": {},
   "source": [
    "Las negritas es un estilo tipográfico en el que los caracteres tienen un trazo más grueso. Es empleada principalmente para que sobresalga o se enfatice una parte del texto. Con los ejemplos se decribe como ponerlas en nuestro Notebook de Jupyter."
   ]
  },
  {
   "cell_type": "markdown",
   "metadata": {},
   "source": [
    "<pre>\n",
    "**Negita**\n",
    "</pre>"
   ]
  },
  {
   "cell_type": "markdown",
   "metadata": {},
   "source": [
    "**Negrita**"
   ]
  },
  {
   "cell_type": "markdown",
   "metadata": {},
   "source": [
    "<pre>\n",
    "__Negrita__\n",
    "</pre>"
   ]
  },
  {
   "cell_type": "markdown",
   "metadata": {},
   "source": [
    "__Negrita__"
   ]
  },
  {
   "cell_type": "markdown",
   "metadata": {},
   "source": [
    "## 2.3 Fuente Negrita e Italica"
   ]
  },
  {
   "cell_type": "markdown",
   "metadata": {},
   "source": [
    "Aquí podemos poner estos dos estilos combinados."
   ]
  },
  {
   "cell_type": "markdown",
   "metadata": {},
   "source": [
    "<pre>***NegitaItalica***</pre>"
   ]
  },
  {
   "cell_type": "markdown",
   "metadata": {},
   "source": [
    "***NegritaItalica***"
   ]
  },
  {
   "cell_type": "markdown",
   "metadata": {},
   "source": [
    "<pre>___NegritaItalica___</pre>"
   ]
  },
  {
   "cell_type": "markdown",
   "metadata": {},
   "source": [
    "___NegritaItalica___"
   ]
  },
  {
   "cell_type": "markdown",
   "metadata": {},
   "source": [
    "# 3. Enlaces"
   ]
  },
  {
   "cell_type": "markdown",
   "metadata": {},
   "source": [
    "## 3.1 Enlace dentro del Notebook"
   ]
  },
  {
   "cell_type": "markdown",
   "metadata": {},
   "source": [
    "Este tipo de enlaces pueden vicular una celda con formato Markdonw con encabezado. A continuación se presenta un ejemplo de como obtener este tipo de enlace."
   ]
  },
  {
   "cell_type": "markdown",
   "metadata": {},
   "source": [
    "<pre>\n",
    "[Aquí se muestran los caracteres para colocar italicas](#2.1-Fuente-Italica)\n",
    "</pre>"
   ]
  },
  {
   "cell_type": "markdown",
   "metadata": {},
   "source": [
    "[Aquí se muestran los caracteres para colocar italicas](#2.1-Fuente-Italica)"
   ]
  },
  {
   "cell_type": "markdown",
   "metadata": {},
   "source": [
    "## 3.2 Enlace a un sitio web"
   ]
  },
  {
   "cell_type": "markdown",
   "metadata": {},
   "source": [
    "Hay distintos tipos de enlaces web, uno de ellos es el estándar con títulos al pasar el mouse."
   ]
  },
  {
   "cell_type": "markdown",
   "metadata": {},
   "source": [
    "<pre>[Da click aquí para ir a la ENCiT](http://www.encit.unam.mx/ \"ENCiT\")</pre)"
   ]
  },
  {
   "cell_type": "markdown",
   "metadata": {},
   "source": [
    "[Da click aquí para ir a la ENCiT](http://www.encit.unam.mx/ \"ENCiT\")"
   ]
  },
  {
   "cell_type": "markdown",
   "metadata": {},
   "source": [
    "## 3.3 Enlace a una imagen web"
   ]
  },
  {
   "cell_type": "markdown",
   "metadata": {},
   "source": [
    "Este proceso es muy similar a insertar un enlace. Se coloca un ! antes de colocar los primeros corchetes."
   ]
  },
  {
   "cell_type": "markdown",
   "metadata": {},
   "source": [
    "<pre>![Esto es un Globo Terraqueo](http://www.encit.unam.mx/sites/default/files/2020-09/foto_geografia.jpg \"Globo Terraqueo\")</pre>"
   ]
  },
  {
   "cell_type": "markdown",
   "metadata": {},
   "source": [
    "![Esto es un Globo Terraqueo](http://www.encit.unam.mx/sites/default/files/2020-09/foto_geografia.jpg \"Globo Terraqueo\")"
   ]
  },
  {
   "cell_type": "markdown",
   "metadata": {},
   "source": [
    "# 4. Ecuaciones"
   ]
  },
  {
   "cell_type": "markdown",
   "metadata": {},
   "source": [
    "En las celdas tipo _Markdonw_ se pueden colocar ecuaciones matemáticas con un tipo de código especial llamdo LaTeX. Para generar una ecuacion podemos utilizar el símbolo $ en el principio y final de nuestra ecuación seleccionada."
   ]
  },
  {
   "cell_type": "markdown",
   "metadata": {},
   "source": [
    "## 4.1 Ecuaciones tipo LATEX"
   ]
  },
  {
   "cell_type": "markdown",
   "metadata": {},
   "source": [
    "Rodee su entrada con signos de dólar y coloque la ecuación requerida."
   ]
  },
  {
   "cell_type": "markdown",
   "metadata": {},
   "source": [
    "<pre>$\\displaystyle \\sum_{k=1}^{n} k = \\dfrac{n(n+1)}{2}$</pre>"
   ]
  },
  {
   "cell_type": "markdown",
   "metadata": {},
   "source": [
    "$\\displaystyle \\sum_{k=1}^{n} k = \\dfrac{n(n+1)}{2}$"
   ]
  },
  {
   "cell_type": "code",
   "execution_count": null,
   "metadata": {},
   "outputs": [],
   "source": []
  }
 ],
 "metadata": {
  "kernelspec": {
   "display_name": "Python 3",
   "language": "python",
   "name": "python3"
  },
  "language_info": {
   "codemirror_mode": {
    "name": "ipython",
    "version": 3
   },
   "file_extension": ".py",
   "mimetype": "text/x-python",
   "name": "python",
   "nbconvert_exporter": "python",
   "pygments_lexer": "ipython3",
   "version": "3.8.3"
  }
 },
 "nbformat": 4,
 "nbformat_minor": 4
}
